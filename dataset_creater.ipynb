{
 "cells": [
  {
   "cell_type": "code",
   "execution_count": null,
   "metadata": {},
   "outputs": [],
   "source": [
    "import os\n",
    "import zipfile\n",
    "import concurrent.futures\n",
    "import pandas as pd\n",
    "import random\n",
    "\n",
    "import etl_util"
   ]
  },
  {
   "cell_type": "code",
   "execution_count": null,
   "metadata": {},
   "outputs": [],
   "source": [
    "# ETL7.zipとETL8B.zipのパスを設定してください\n",
    "ETL7_ZIP_PATH = './data/ETL7.zip'\n",
    "ETL8B_ZIP_PATH = './data/ETL8B.zip'\n",
    "\n",
    "# 出力先を設定してください\n",
    "DEFAULT_DEST = './output/'\n",
    "\n",
    "# 文字コード表を設定してください\n",
    "JIS0201_PATH = './data/jis0201.txt'\n",
    "JIS0208_PATH = './data/jis0208.txt'"
   ]
  },
  {
   "cell_type": "code",
   "execution_count": null,
   "metadata": {},
   "outputs": [],
   "source": [
    "def convert_etl(filename, etl_num = '7', destination = DEFAULT_DEST):\n",
    "    pickle_name = 'etl' + etl_num + '.pickle'\n",
    "    dest_full_path = destination + pickle_name\n",
    "\n",
    "    # 既に変換済みであれば実行しない.\n",
    "    if os.path.exists(dest_full_path) == False:\n",
    "        # zip fileの展開.\n",
    "        with zipfile.ZipFile(filename) as etl_zipped:\n",
    "            etl_zipped.extractall(destination)\n",
    "\n",
    "        # バイナリデータからpngに変換.\n",
    "        binary_dir = destination + 'ETL' + etl_num + '/'\n",
    "        img_list = []\n",
    "        # バイナリデータ形式ごとに変換.\n",
    "        if etl_num == '1' or etl_num == '6' or etl_num == '7':\n",
    "            JIS0201_char_dict = etl_util.jis0201_to_char(JIS0201_PATH)\n",
    "            img_list = etl_util.convert_m_type(binary_dir, JIS0201_char_dict)\n",
    "            print(\"img_list:\", len(img_list))\n",
    "        if etl_num == '8B':\n",
    "            JIS0208_char_dict = etl_util.jis0208_to_char(JIS0208_PATH)\n",
    "            img_list = etl_util.convert_b_type(binary_dir, JIS0208_char_dict)\n",
    "        #print(img_list[:10])\n",
    "\n",
    "        # 画像ごとに外接矩形を算出.\n",
    "        contour_list = []\n",
    "        # 時間がかかるため並列処理で行う.\n",
    "        # 並列処理用Executor生成.\n",
    "        executor = concurrent.futures.ProcessPoolExecutor()\n",
    "        # 並列処理の実行.\n",
    "        futures = [executor.submit(etl_util.create_contour, img_path) for img_path in img_list]\n",
    "        for future in concurrent.futures.as_completed(futures):\n",
    "            contour_list.append(future.result())\n",
    "        # 並列処理の後処理.\n",
    "        executor.shutdown()\n",
    "\n",
    "        # 座標が[0,0,0,0]のdummyファイルをリストから抜く.\n",
    "        contour_list = [contour for contour in contour_list if contour[1] != [0,0,0,0]]\n",
    "\n",
    "        # for Debug.\n",
    "        sampling = random.sample(contour_list, 10)\n",
    "        for index in range(len(sampling)):\n",
    "            etl_util.showRectangleImage(sampling[index][0], [sampling[index][1]], sampling[index][2])\n",
    "\n",
    "        # save pickle\n",
    "        pd.to_pickle(contour_list, dest_full_path)\n",
    "        \n",
    "    return dest_full_path"
   ]
  },
  {
   "cell_type": "code",
   "execution_count": null,
   "metadata": {},
   "outputs": [],
   "source": [
    "# Main\n",
    "# ETL7.zipの変換.\n",
    "pickle_etl7_path = convert_etl( ETL7_ZIP_PATH, '7' )\n",
    "print('ETL7 convert complete:', pickle_etl7_path)\n",
    "\n",
    "# ETL8B.zipの変換.\n",
    "pickle_etl8b_path = convert_etl( ETL8B_ZIP_PATH, '8B' )\n",
    "print('ETL8B convert complete:', pickle_etl8b_path)"
   ]
  }
 ],
 "metadata": {
  "interpreter": {
   "hash": "00b4b553aa6c6e48345797f5a1d6830fef24efbe2eff67dc758a7c2ce4b6a77d"
  },
  "kernelspec": {
   "display_name": "Python 3.7.11 64-bit ('dataset_create': conda)",
   "language": "python",
   "name": "python3"
  },
  "language_info": {
   "codemirror_mode": {
    "name": "ipython",
    "version": 3
   },
   "file_extension": ".py",
   "mimetype": "text/x-python",
   "name": "python",
   "nbconvert_exporter": "python",
   "pygments_lexer": "ipython3",
   "version": "3.7.11"
  },
  "orig_nbformat": 4
 },
 "nbformat": 4,
 "nbformat_minor": 2
}
